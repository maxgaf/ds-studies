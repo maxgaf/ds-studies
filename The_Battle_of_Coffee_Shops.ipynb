{
 "cells": [
  {
   "cell_type": "markdown",
   "metadata": {},
   "source": [
    "# The Battle of Coffee Shops\n",
    "### Capstone Project for IBM Data Science professional certificate @ Coursera"
   ]
  },
  {
   "cell_type": "markdown",
   "metadata": {},
   "source": [
    "### Contents"
   ]
  },
  {
   "cell_type": "markdown",
   "metadata": {},
   "source": [
    "* [Introduction: Problem and background](#intro)\n",
    "* [Data](#data)"
   ]
  },
  {
   "cell_type": "markdown",
   "metadata": {},
   "source": [
    "### <a name=\"intro\"></a>Introduction: Problem and background"
   ]
  },
  {
   "cell_type": "markdown",
   "metadata": {},
   "source": [
    "In this project we are going to propose the optimal choice of coffee shop type for a given location. This study can be used by stakeholders who are interested in **coffee shop market in Warsaw**.\n",
    "\n",
    "There are 2 ways to enter coffee shop market: you either buy franchise from a large chain or open an original coffeehouse.\n",
    "- With franchise you'll get a fine tuned business model, brand and supply chain with prices negotiated for the large volumes\n",
    "- With original coffeehouse you'll get an opportunity to make it from scratch\n",
    "\n",
    "Interesting observation was made that a single location and small chain coffee shops co-exist with big chains.\n",
    "They didn't disappear due to competition powered by the economy of scale.\n",
    "\n",
    "Let's not talk about countries with ages of coffee culture (Italy) or top coffee drinkers (Finland).\n",
    "We'll focus on Warsaw(Poland) where 2 big chains (Costa Coffee and Starbucks) are available.\n",
    "\n",
    "There's the [study](https://www.safegraph.com/blog/local-vs-corporate-coffee) showing that people are most likely looking for different experience when going to a big chain coffeehouse compared to a single location/small chain.\n",
    "\n",
    "Customer experience from the place is significantly defined by it's spaial context.\n",
    "\n",
    "We'll be using data science tools to determine **how similar or dissimilar are spatial contexts for different types of coffee shops**. And **what type of coffee shop is the optimal choice for a given location represented by it's spatial conext**."
   ]
  },
  {
   "cell_type": "markdown",
   "metadata": {},
   "source": [
    "### <a name=\"data\"></a>Data"
   ]
  },
  {
   "cell_type": "markdown",
   "metadata": {},
   "source": [
    "According to [Tobler's first law of geography](https://en.wikipedia.org/wiki/Tobler%27s_first_law_of_geography): \"everything is related to everything else, but near things are more related than distant things\".\n",
    "Following this idea will be doing study on spatial context of coffee shops in Warsaw.\n",
    "\n",
    "\n",
    "[Foursquare City Guide API](https://foursquare.com/developers) will be used\n",
    "- to obtain coffee shops locations in Warsaw\n",
    "- to get spatial context for coffee shops - nearby venues\n",
    "\n",
    "[OpenStreetMap (OSM)](https://www.openstreetmap.org/) data (obtained via [Overpass API](https://wiki.openstreetmap.org/wiki/Overpass_API)) will be used to enrich spatial context data by bringing more map features to our dataset\n",
    "\n",
    "[Geocoder](https://geocoder.readthedocs.io/) Python library will help to get coordinates for Warsaw districts"
   ]
  },
  {
   "cell_type": "code",
   "execution_count": null,
   "metadata": {},
   "outputs": [],
   "source": []
  }
 ],
 "metadata": {
  "kernelspec": {
   "display_name": "Python 3",
   "language": "python",
   "name": "python3"
  },
  "language_info": {
   "codemirror_mode": {
    "name": "ipython",
    "version": 3
   },
   "file_extension": ".py",
   "mimetype": "text/x-python",
   "name": "python",
   "nbconvert_exporter": "python",
   "pygments_lexer": "ipython3",
   "version": "3.7.1"
  }
 },
 "nbformat": 4,
 "nbformat_minor": 2
}
