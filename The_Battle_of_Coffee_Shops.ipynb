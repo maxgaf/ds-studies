{
 "cells": [
  {
   "cell_type": "markdown",
   "metadata": {},
   "source": [
    "# The Battle of Coffee Shops\n",
    "### Capstone Project for IBM Data Science professional certificate @ Coursera"
   ]
  },
  {
   "cell_type": "markdown",
   "metadata": {},
   "source": [
    "### Introduction: Problem and background"
   ]
  },
  {
   "cell_type": "markdown",
   "metadata": {},
   "source": [
    "In this project we are going propose the optimal type of coffee shop for a given location.\n",
    "\n",
    "There are 2 ways to enter coffee shop market: you either buy franchise from large chain or open original coffeehouse.\n",
    "- With franchise you'll get fine tuned business model, brand and supply chain with prices negotiated for large volumes\n",
    "- With original coffeehouse you'll get opportunity to make it from scratch\n",
    "\n",
    "Interesting observation is that single location and small chain coffee shops co-exist with big chains.\n",
    "They didn't disappear dut to competition powered by economy of scale.\n",
    "\n",
    "Let's not talk about countries with ages of coffee culture (Italy) or top coffee drinkers (Finland).\n",
    "We'll focus on Warsaw, Poland where 2 big chains (Costa Coffee and Starbucks) are available.\n",
    "\n",
    "There's the [study](https://www.safegraph.com/blog/local-vs-corporate-coffee) showing that people are most likely looking for different experience when go to big chain coffeehouse compare to single location/small chain.\n",
    "\n",
    "Experience from the place is significantly defined by it's spaial context.\n",
    "We'll be using data science tools to determine how similar or dissimilar are spatial contexts for different types of coffee shops.\n",
    "It can be used"
   ]
  },
  {
   "cell_type": "markdown",
   "metadata": {},
   "source": [
    "### Data"
   ]
  },
  {
   "cell_type": "markdown",
   "metadata": {},
   "source": [
    "[Foursquare City Guide API](https://foursquare.com/developers) will be used to obtain coffee shops location in Warsaw as well as nearby venues for coffee shops \n",
    "\n",
    "[OpenStreetMap (OSM)](https://www.openstreetmap.org/) will be used to enrich spatial context data by bringing more map features to dataset\n",
    "\n",
    "[Geocoder](https://geocoder.readthedocs.io/) Python library will help get coordinates for Warsaw districts"
   ]
  },
  {
   "cell_type": "code",
   "execution_count": null,
   "metadata": {},
   "outputs": [],
   "source": []
  }
 ],
 "metadata": {
  "kernelspec": {
   "display_name": "Python 3",
   "language": "python",
   "name": "python3"
  },
  "language_info": {
   "codemirror_mode": {
    "name": "ipython",
    "version": 3
   },
   "file_extension": ".py",
   "mimetype": "text/x-python",
   "name": "python",
   "nbconvert_exporter": "python",
   "pygments_lexer": "ipython3",
   "version": "3.7.1"
  }
 },
 "nbformat": 4,
 "nbformat_minor": 2
}
